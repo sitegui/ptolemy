{
 "cells": [
  {
   "cell_type": "code",
   "execution_count": null,
   "metadata": {},
   "outputs": [],
   "source": [
    "import holoviews as hv\n",
    "import geoviews as gv\n",
    "import cartograph\n",
    "import numpy as np\n",
    "from collections import defaultdict\n",
    "hv.extension('bokeh')\n",
    "from IPython.core.display import display, HTML\n",
    "display(HTML(\"<style>.container { width:100% !important; }</style>\"))"
   ]
  },
  {
   "cell_type": "code",
   "execution_count": null,
   "metadata": {},
   "outputs": [],
   "source": [
    "br_x = (-8649435.388132825, -3472043.511082467)\n",
    "br_y = (-4831406.481658398, 744246.3090112011)\n",
    "max_edges = int(1e4)"
   ]
  },
  {
   "cell_type": "code",
   "execution_count": null,
   "metadata": {},
   "outputs": [],
   "source": [
    "carto = cartograph.Cartography('<PATH HERE>')"
   ]
  },
  {
   "cell_type": "code",
   "execution_count": null,
   "metadata": {},
   "outputs": [],
   "source": [
    "bg_map = gv.tile_sources.CartoLight.opts(xaxis=None, yaxis=None, width=1200, height=600)\n",
    "width_by_level = {0: 3, 1: 3, 2: 2, 3: 2, 4: 1, 5: 1}\n",
    "color_by_level = {0: 'orange', 1: 'orange', 2: 'lightblue', 3: 'lightblue', 4: 'gray', 5: 'gray'}\n",
    "\n",
    "def update_path(x_range, y_range):\n",
    "    x_range = x_range or br_x\n",
    "    y_range = y_range or br_y\n",
    "    edges_by_level = carto.sample_edges((x_range[0], y_range[0]), (x_range[1], y_range[1]), max_edges)\n",
    "    \n",
    "    def get_path(level):\n",
    "        return hv.Path(edges_by_level.get(level, [])).opts(line_width=width_by_level[level], line_color=color_by_level[level])\n",
    "    \n",
    "    return get_path(0) * get_path(1) * get_path(2) * get_path(3) * get_path(4) * get_path(5)\n",
    "\n",
    "hv.DynamicMap(update_path, streams=[hv.streams.RangeXY()]) * bg_map"
   ]
  },
  {
   "cell_type": "code",
   "execution_count": null,
   "metadata": {},
   "outputs": [],
   "source": [
    "scc = carto.strongly_connected_components()"
   ]
  },
  {
   "cell_type": "code",
   "execution_count": null,
   "metadata": {},
   "outputs": [],
   "source": [
    "import pandas as pd\n",
    "df = pd.DataFrame([{\n",
    "    'num_nodes': len(s)\n",
    "} for s in scc])\n",
    "print(len(df))\n",
    "df.head()"
   ]
  },
  {
   "cell_type": "code",
   "execution_count": null,
   "metadata": {},
   "outputs": [],
   "source": [
    "count = df.groupby('num_nodes').size().to_frame('num_strongly_connected_sub_graphs').reset_index()\n",
    "count"
   ]
  },
  {
   "cell_type": "code",
   "execution_count": null,
   "metadata": {},
   "outputs": [],
   "source": [
    "count['num_strongly_connected_nodes'] = count['num_nodes'] * count['num_strongly_connected_sub_graphs']\n",
    "count['% nodes'] = count['num_strongly_connected_nodes'] / df['num_nodes'].sum()\n",
    "count.sort_values('% nodes', ascending=False).head()"
   ]
  },
  {
   "cell_type": "code",
   "execution_count": null,
   "metadata": {},
   "outputs": [],
   "source": []
  }
 ],
 "metadata": {
  "kernelspec": {
   "display_name": "Python 3",
   "language": "python",
   "name": "python3"
  },
  "language_info": {
   "codemirror_mode": {
    "name": "ipython",
    "version": 3
   },
   "file_extension": ".py",
   "mimetype": "text/x-python",
   "name": "python",
   "nbconvert_exporter": "python",
   "pygments_lexer": "ipython3",
   "version": "3.7.3"
  }
 },
 "nbformat": 4,
 "nbformat_minor": 2
}